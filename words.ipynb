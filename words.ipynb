{
 "cells": [
  {
   "cell_type": "code",
   "execution_count": 4,
   "metadata": {},
   "outputs": [
    {
     "ename": "NameError",
     "evalue": "name 'lemmatizer' is not defined",
     "output_type": "error",
     "traceback": [
      "\u001b[1;31m---------------------------------------------------------------------------\u001b[0m",
      "\u001b[1;31mNameError\u001b[0m                                 Traceback (most recent call last)",
      "\u001b[1;32me:\\Deep Learning\\Chatbot\\words.ipynb Cell 1\u001b[0m in \u001b[0;36m<cell line: 24>\u001b[1;34m()\u001b[0m\n\u001b[0;32m     <a href='vscode-notebook-cell:/e%3A/Deep%20Learning/Chatbot/words.ipynb#W0sZmlsZQ%3D%3D?line=20'>21</a>\u001b[0m         \u001b[39mif\u001b[39;00m intent[\u001b[39m'\u001b[39m\u001b[39mintent\u001b[39m\u001b[39m'\u001b[39m] \u001b[39mnot\u001b[39;00m \u001b[39min\u001b[39;00m classes:\n\u001b[0;32m     <a href='vscode-notebook-cell:/e%3A/Deep%20Learning/Chatbot/words.ipynb#W0sZmlsZQ%3D%3D?line=21'>22</a>\u001b[0m             classes\u001b[39m.\u001b[39mappend(intent[\u001b[39m'\u001b[39m\u001b[39mintent\u001b[39m\u001b[39m'\u001b[39m])\n\u001b[1;32m---> <a href='vscode-notebook-cell:/e%3A/Deep%20Learning/Chatbot/words.ipynb#W0sZmlsZQ%3D%3D?line=23'>24</a>\u001b[0m words \u001b[39m=\u001b[39m [lemmatizer\u001b[39m.\u001b[39mlemmatize(w\u001b[39m.\u001b[39mlower()) \u001b[39mfor\u001b[39;00m w \u001b[39min\u001b[39;00m words \u001b[39mif\u001b[39;00m w \u001b[39mnot\u001b[39;00m \u001b[39min\u001b[39;00m ignore_words]\n\u001b[0;32m     <a href='vscode-notebook-cell:/e%3A/Deep%20Learning/Chatbot/words.ipynb#W0sZmlsZQ%3D%3D?line=24'>25</a>\u001b[0m words \u001b[39m=\u001b[39m \u001b[39msorted\u001b[39m(\u001b[39mlist\u001b[39m(\u001b[39mset\u001b[39m(words)))\n\u001b[0;32m     <a href='vscode-notebook-cell:/e%3A/Deep%20Learning/Chatbot/words.ipynb#W0sZmlsZQ%3D%3D?line=26'>27</a>\u001b[0m classes \u001b[39m=\u001b[39m \u001b[39msorted\u001b[39m(\u001b[39mlist\u001b[39m(\u001b[39mset\u001b[39m(classes)))\n",
      "\u001b[1;32me:\\Deep Learning\\Chatbot\\words.ipynb Cell 1\u001b[0m in \u001b[0;36m<listcomp>\u001b[1;34m(.0)\u001b[0m\n\u001b[0;32m     <a href='vscode-notebook-cell:/e%3A/Deep%20Learning/Chatbot/words.ipynb#W0sZmlsZQ%3D%3D?line=20'>21</a>\u001b[0m         \u001b[39mif\u001b[39;00m intent[\u001b[39m'\u001b[39m\u001b[39mintent\u001b[39m\u001b[39m'\u001b[39m] \u001b[39mnot\u001b[39;00m \u001b[39min\u001b[39;00m classes:\n\u001b[0;32m     <a href='vscode-notebook-cell:/e%3A/Deep%20Learning/Chatbot/words.ipynb#W0sZmlsZQ%3D%3D?line=21'>22</a>\u001b[0m             classes\u001b[39m.\u001b[39mappend(intent[\u001b[39m'\u001b[39m\u001b[39mintent\u001b[39m\u001b[39m'\u001b[39m])\n\u001b[1;32m---> <a href='vscode-notebook-cell:/e%3A/Deep%20Learning/Chatbot/words.ipynb#W0sZmlsZQ%3D%3D?line=23'>24</a>\u001b[0m words \u001b[39m=\u001b[39m [lemmatizer\u001b[39m.\u001b[39mlemmatize(w\u001b[39m.\u001b[39mlower()) \u001b[39mfor\u001b[39;00m w \u001b[39min\u001b[39;00m words \u001b[39mif\u001b[39;00m w \u001b[39mnot\u001b[39;00m \u001b[39min\u001b[39;00m ignore_words]\n\u001b[0;32m     <a href='vscode-notebook-cell:/e%3A/Deep%20Learning/Chatbot/words.ipynb#W0sZmlsZQ%3D%3D?line=24'>25</a>\u001b[0m words \u001b[39m=\u001b[39m \u001b[39msorted\u001b[39m(\u001b[39mlist\u001b[39m(\u001b[39mset\u001b[39m(words)))\n\u001b[0;32m     <a href='vscode-notebook-cell:/e%3A/Deep%20Learning/Chatbot/words.ipynb#W0sZmlsZQ%3D%3D?line=26'>27</a>\u001b[0m classes \u001b[39m=\u001b[39m \u001b[39msorted\u001b[39m(\u001b[39mlist\u001b[39m(\u001b[39mset\u001b[39m(classes)))\n",
      "\u001b[1;31mNameError\u001b[0m: name 'lemmatizer' is not defined"
     ]
    }
   ],
   "source": [
    "\n",
    "import nltk\n",
    "import json \n",
    "from nltk.stem import WordNetLemmatizer\n",
    "lemmatizer = WordNetLemmatizer()\n",
    "\n",
    "words = []\n",
    "classes = []\n",
    "documents = []\n",
    "ignore_words = ['?','!']\n",
    "data_file = open('intent.json').read()\n",
    "intents = json.loads(data_file)\n",
    "\n",
    "for intent in intents['intents']:\n",
    "    for text in intent['text']:\n",
    "\n",
    "        w = nltk.word_tokenize(text)\n",
    "        words.extend(w)\n",
    "        #adding documents\n",
    "        documents.append((w, intent['intent']))\n",
    "\n",
    "\n",
    "        #adding classes to our class list\n",
    "        if intent['intent'] not in classes:\n",
    "            classes.append(intent['intent'])\n",
    "\n",
    "words = [lemmatizer.lemmatize(w.lower()) for w in words if w not in ignore_words]\n",
    "words = sorted(list(set(words)))\n",
    "\n",
    "classes = sorted(list(set(classes)))\n",
    "\n",
    "print(len(documents), \"documents\")\n",
    "\n",
    "print(len(classes), \"classes\", classes)\n",
    "\n",
    "print(len(words), \"unique lemmatized words\", words)\n",
    "\n",
    "pickle.dump(words, open('words2.pkl', 'wb'))\n",
    "pickle.dump(classes, open('classes2.pkl', 'wb'))"
   ]
  }
 ],
 "metadata": {
  "kernelspec": {
   "display_name": "Python 3",
   "language": "python",
   "name": "python3"
  },
  "language_info": {
   "codemirror_mode": {
    "name": "ipython",
    "version": 3
   },
   "file_extension": ".py",
   "mimetype": "text/x-python",
   "name": "python",
   "nbconvert_exporter": "python",
   "pygments_lexer": "ipython3",
   "version": "3.9.8"
  },
  "orig_nbformat": 4,
  "vscode": {
   "interpreter": {
    "hash": "1a647852a5af53831007c2d01c12e3e8e8061e139bd247a0ea5121ac86dbd369"
   }
  }
 },
 "nbformat": 4,
 "nbformat_minor": 2
}
